{
 "cells": [
  {
   "cell_type": "markdown",
   "id": "organizational-selection",
   "metadata": {},
   "source": [
    "# Introduction\n",
    "\n",
    "The simplest way to try and predict the outcome of a match would be to create a matrix with the percent win of each players against each other players.\n",
    "\n",
    "We can try that method using Federer and Nadal."
   ]
  },
  {
   "cell_type": "code",
   "execution_count": 1,
   "id": "willing-supervision",
   "metadata": {},
   "outputs": [],
   "source": [
    "# Init\n",
    "from pyspark.sql import SparkSession\n",
    "from pyspark.sql.functions import col, expr, when, lit\n",
    "\n",
    "spark = SparkSession \\\n",
    "        .builder \\\n",
    "        .appName(\"Python Spark SQL basic example\") \\\n",
    "        .config(\"spark.some.config.option\", \"some-value\") \\\n",
    "        .getOrCreate()\n",
    "\n",
    "def init_df(): \n",
    "    return spark.read \\\n",
    "    .csv(\"./dataset/all_matches.csv\", header=True)"
   ]
  },
  {
   "cell_type": "code",
   "execution_count": 2,
   "id": "legislative-supply",
   "metadata": {},
   "outputs": [
    {
     "name": "stdout",
     "output_type": "stream",
     "text": [
      "+-------------+------------+-------------------+------------+------------------+\n",
      "|    player_id| opponent_id|sum(player_victory)|sum(matches)|           winrate|\n",
      "+-------------+------------+-------------------+------------+------------------+\n",
      "|roger-federer|rafael-nadal|                 11|          33|0.3333333333333333|\n",
      "+-------------+------------+-------------------+------------+------------------+\n",
      "\n"
     ]
    }
   ],
   "source": [
    "# Winrate\n",
    "df = init_df()\n",
    "\n",
    "df = df.select([\"player_id\", \"opponent_id\", \"player_victory\"]) \\\n",
    "    .where(df['player_id'] == 'roger-federer') \\\n",
    "    .where(df['opponent_id'] == 'rafael-nadal') \\\n",
    "    .withColumn(\"player_victory\", \\\n",
    "              when(df[\"player_victory\"] == 't', 1).otherwise(0)) \\\n",
    "    .withColumn('matches', lit(1)) \\\n",
    "    .groupBy(['player_id', 'opponent_id']) \\\n",
    "    .sum()\n",
    "df = df.withColumn('winrate', df['sum(player_victory)'] / df['sum(matches)'])\n",
    "    \n",
    "df.show()"
   ]
  },
  {
   "cell_type": "markdown",
   "id": "graduate-keeping",
   "metadata": {},
   "source": [
    "That result tells us that if we had to bet on the winner of a match between Federer and Nadal, **Federer would win 1 out of every 3 matches**. \n",
    "\n",
    "This is good, but can do a lot better."
   ]
  },
  {
   "cell_type": "code",
   "execution_count": 3,
   "id": "legal-revision",
   "metadata": {},
   "outputs": [
    {
     "name": "stdout",
     "output_type": "stream",
     "text": [
      "+-------------+------------+-------------+-------------------+------------+-------------------+\n",
      "|    player_id| opponent_id|court_surface|sum(player_victory)|sum(matches)|            winrate|\n",
      "+-------------+------------+-------------+-------------------+------------+-------------------+\n",
      "|roger-federer|rafael-nadal|         Clay|                  2|          15|0.13333333333333333|\n",
      "|roger-federer|rafael-nadal|        Grass|                  2|           3| 0.6666666666666666|\n",
      "|roger-federer|rafael-nadal|         Hard|                  7|          15| 0.4666666666666667|\n",
      "+-------------+------------+-------------+-------------------+------------+-------------------+\n",
      "\n"
     ]
    }
   ],
   "source": [
    "# Winrate per surface\n",
    "from pyspark.sql.functions import col, expr, when, lit\n",
    "\n",
    "df = init_df()\n",
    "\n",
    "df = df.select([\"player_id\", \"opponent_id\", \"court_surface\", \"player_victory\"]) \\\n",
    "    .where(df['player_id'] == 'roger-federer') \\\n",
    "    .where(df['opponent_id'] == 'rafael-nadal') \\\n",
    "    .withColumn(\"player_victory\", \\\n",
    "              when(df[\"player_victory\"] == 't', 1).otherwise(0)) \\\n",
    "    .withColumn('matches', lit(1)) \\\n",
    "    .groupBy(['player_id', 'opponent_id', 'court_surface']) \\\n",
    "    .sum()\n",
    "df = df.withColumn('winrate', df['sum(player_victory)'] / df['sum(matches)'])\n",
    "    \n",
    "df.show()"
   ]
  },
  {
   "cell_type": "markdown",
   "id": "traditional-lying",
   "metadata": {},
   "source": [
    "Here, we can see a much different result from what we had previously. While betting on Nadal is still overall better than betting on Federer, we see that **Nadal almost always wins matches on Clay, Nadal and Federer are about even on Hard, and Federer has a slight advantage on Grass**.\n",
    "\n",
    "Those results are much better, but they still suffer from a very big flaw: a lack of data. We only have 33 matches to work with (when working with two of the most active tennis players of all time), and we have even less matches to work with if we decide to split those matches based on the terrain type.\n",
    "\n",
    "Even worse, what if we want to predict the outcome of a match from two players who have never played against each others? Our current system simply doesn't allow us to do that. We need to find something better."
   ]
  }
 ],
 "metadata": {
  "kernelspec": {
   "display_name": "Python 3",
   "language": "python",
   "name": "python3"
  },
  "language_info": {
   "codemirror_mode": {
    "name": "ipython",
    "version": 3
   },
   "file_extension": ".py",
   "mimetype": "text/x-python",
   "name": "python",
   "nbconvert_exporter": "python",
   "pygments_lexer": "ipython3",
   "version": "3.9.1"
  }
 },
 "nbformat": 4,
 "nbformat_minor": 5
}
