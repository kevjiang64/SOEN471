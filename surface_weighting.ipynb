{
 "cells": [
  {
   "cell_type": "markdown",
   "id": "looking-broadway",
   "metadata": {},
   "source": [
    "# Surface Weigthing\n",
    "\n",
    "As was shown previously, a player's perfromance in a given match is greatly influenced by the court surface used in a match. "
   ]
  },
  {
   "cell_type": "code",
   "execution_count": 2,
   "id": "together-sheriff",
   "metadata": {},
   "outputs": [],
   "source": [
    "# Init\n",
    "from pyspark.sql import SparkSession\n",
    "from pyspark.sql.functions import col, expr, when, lit\n",
    "\n",
    "spark = SparkSession \\\n",
    "        .builder \\\n",
    "        .appName(\"Python Spark SQL basic example\") \\\n",
    "        .config(\"spark.some.config.option\", \"some-value\") \\\n",
    "        .getOrCreate()\n",
    "\n",
    "def init_df(): \n",
    "    return spark.read \\\n",
    "    .csv(\"./dataset/all_matches.csv\", header=True)"
   ]
  },
  {
   "cell_type": "code",
   "execution_count": 19,
   "id": "exceptional-frontier",
   "metadata": {},
   "outputs": [
    {
     "name": "stdout",
     "output_type": "stream",
     "text": [
      "+-------------+-------------+-------------------+------------+------------------+-------------+------------------+--------------------+\n",
      "|    player_id|court_surface|sum(player_victory)|sum(matches)|           winrate|total_matches|   surface_winrate|   surface_advantage|\n",
      "+-------------+-------------+-------------------+------------+------------------+-------------+------------------+--------------------+\n",
      "| rafael-nadal|         Clay|                459|         526|0.8223905723905723|         1188|0.8726235741444867| 0.05023300175391432|\n",
      "| rafael-nadal|        Grass|                 83|         105|0.8223905723905723|         1188|0.7904761904761904|-0.03191438191438...|\n",
      "| rafael-nadal|         Hard|                428|         547|0.8223905723905723|         1188|0.7824497257769653|-0.03994084661360...|\n",
      "| rafael-nadal|       Carpet|                  7|          10|0.8223905723905723|         1188|               0.7|-0.12239057239057238|\n",
      "|roger-federer|         Clay|                263|         350|0.8122448979591836|         1470|0.7514285714285714| -0.0608163265306122|\n",
      "|roger-federer|        Grass|                184|         211|0.8122448979591836|         1470|0.8720379146919431|0.059793016732759496|\n",
      "|roger-federer|         Hard|                720|         871|0.8122448979591836|         1470|0.8266360505166476|0.014391152557463927|\n",
      "|roger-federer|       Carpet|                 27|          38|0.8122448979591836|         1470|0.7105263157894737|-0.10171858216970997|\n",
      "+-------------+-------------+-------------------+------------+------------------+-------------+------------------+--------------------+\n",
      "\n"
     ]
    }
   ],
   "source": [
    "from pyspark.sql.functions import col, expr, when, lit\n",
    "\n",
    "def winrate_any_surface(players):\n",
    "    df = init_df()\n",
    "    df = df.select([\"player_id\", \"player_victory\"]) \\\n",
    "        .where(df['player_id'].isin(players)) \\\n",
    "        .withColumn(\"player_victory\", \\\n",
    "              when(df[\"player_victory\"] == 't', 1).otherwise(0)) \\\n",
    "        .withColumn('matches', lit(1)) \\\n",
    "        .groupBy(['player_id']) \\\n",
    "        .sum()\n",
    "    return df.withColumn('winrate', df['sum(player_victory)'] / df['sum(matches)']) \\\n",
    "        .withColumnRenamed('sum(matches)', 'total_matches') \\\n",
    "        .select(['player_id', 'winrate', 'total_matches'])\n",
    "\n",
    "def winrate_per_surface(players):\n",
    "    winrate = winrate_any_surface(players)\n",
    "    df = init_df()\n",
    "    df = df.select([\"player_id\", \"court_surface\", \"player_victory\"]) \\\n",
    "        .where(df['player_id'].isin(players)) \\\n",
    "        .withColumn(\"player_victory\", \\\n",
    "                  when(df[\"player_victory\"] == 't', 1).otherwise(0)) \\\n",
    "        .withColumn('matches', lit(1)) \\\n",
    "        .groupBy(['player_id', 'court_surface']) \\\n",
    "        .sum() \\\n",
    "        .join(winrate, on='player_id')\n",
    "\n",
    "    df = df.withColumn('surface_winrate', df['sum(player_victory)'] / df['sum(matches)'])\n",
    "    return df.withColumn('surface_advantage', df['surface_winrate'] - df['winrate'])\n",
    "players = ['roger-federer', 'rafael-nadal', 'novak-djokovic', 'andy-murray']\n",
    "\n",
    "winrate_per_surface(['roger-federer', 'rafael-nadal']).show()"
   ]
  }
 ],
 "metadata": {
  "kernelspec": {
   "display_name": "Python 3",
   "language": "python",
   "name": "python3"
  },
  "language_info": {
   "codemirror_mode": {
    "name": "ipython",
    "version": 3
   },
   "file_extension": ".py",
   "mimetype": "text/x-python",
   "name": "python",
   "nbconvert_exporter": "python",
   "pygments_lexer": "ipython3",
   "version": "3.9.1"
  }
 },
 "nbformat": 4,
 "nbformat_minor": 5
}
