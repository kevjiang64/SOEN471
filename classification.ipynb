{
 "cells": [
  {
   "cell_type": "markdown",
   "id": "cellular-crime",
   "metadata": {},
   "source": [
    "## Classification\n",
    "\n",
    "As mentionned in the project introduction, one of the most well-known way that different players distinguish from one another while playing tennis is their profiency on a given field type, with Federer being the best on grass fields and Nadal being the best on clay fields.  \n",
    "\n",
    "Naturally, finding a player's field preference gives us a lot of insight into how likely the player is to win a given match. "
   ]
  },
  {
   "cell_type": "markdown",
   "id": "reflected-parallel",
   "metadata": {},
   "source": [
    "## Intro\n",
    "\n",
    "First, let us initialize the DataFrame."
   ]
  },
  {
   "cell_type": "code",
   "execution_count": 1,
   "id": "streaming-vietnam",
   "metadata": {},
   "outputs": [],
   "source": [
    "from pyspark.sql import SparkSession\n",
    "\n",
    "spark = SparkSession \\\n",
    "        .builder \\\n",
    "        .appName(\"Python Spark SQL basic example\") \\\n",
    "        .config(\"spark.some.config.option\", \"some-value\") \\\n",
    "        .getOrCreate()\n",
    "\n",
    "df = spark.read \\\n",
    "    .csv(\"./dataset/all_matches.csv\", header=True)"
   ]
  },
  {
   "cell_type": "markdown",
   "id": "controlling-newark",
   "metadata": {},
   "source": [
    "## Case study 1: Roger Federer\n",
    "\n",
    "We will start analyzing matches by Roger Federer."
   ]
  },
  {
   "cell_type": "code",
   "execution_count": 20,
   "id": "alternative-devil",
   "metadata": {},
   "outputs": [],
   "source": [
    "rdf = df.where(df['player_id'] == \"roger-federer\")"
   ]
  },
  {
   "cell_type": "code",
   "execution_count": 25,
   "id": "deluxe-numbers",
   "metadata": {},
   "outputs": [
    {
     "name": "stdout",
     "output_type": "stream",
     "text": [
      "Total matches: 1470\n",
      "Matches won: 1194\n",
      "Win ratio: 0.81\n"
     ]
    }
   ],
   "source": [
    "total_matches = rdf.count()\n",
    "print(f'Total matches: {total_matches}')\n",
    "\n",
    "matches_won = rdf.where(rdf['player_victory'] == 't').count()\n",
    "print(f'Matches won: {matches_won}')\n",
    "\n",
    "print(f'Win ratio: {round(matches_won/total_matches, 2)}')"
   ]
  },
  {
   "cell_type": "code",
   "execution_count": 30,
   "id": "provincial-marijuana",
   "metadata": {},
   "outputs": [
    {
     "name": "stdout",
     "output_type": "stream",
     "text": [
      "Total clay matches: 350\n",
      "Clay matches won: 263\n",
      "Win ratio: 0.75\n"
     ]
    }
   ],
   "source": [
    "clay_matches = rdf.where(rdf['court_surface'] == 'Clay').count()\n",
    "print(f'Total clay matches: {clay_matches}')\n",
    "\n",
    "clay_matches_won = rdf.where(rdf['court_surface'] == 'Clay') \\\n",
    "    .where(rdf['player_victory'] == 't') \\\n",
    "    .count()\n",
    "print(f'Clay matches won: {clay_matches_won}')\n",
    "\n",
    "print(f'Win ratio: {round(clay_matches_won/clay_matches, 2)}')"
   ]
  },
  {
   "cell_type": "code",
   "execution_count": 32,
   "id": "lightweight-distributor",
   "metadata": {},
   "outputs": [
    {
     "name": "stdout",
     "output_type": "stream",
     "text": [
      "Total clay matches: 211\n",
      "Clay matches won: 184\n",
      "Win ratio: 0.87\n"
     ]
    }
   ],
   "source": [
    "grass_matches = rdf.where(rdf['court_surface'] == 'Grass').count()\n",
    "print(f'Total clay matches: {grass_matches}')\n",
    "\n",
    "grass_matches_won = rdf.where(rdf['court_surface'] == 'Grass') \\\n",
    "    .where(rdf['player_victory'] == 't') \\\n",
    "    .count()\n",
    "print(f'Clay matches won: {grass_matches_won}')\n",
    "\n",
    "print(f'Win ratio: {round(grass_matches_won/grass_matches, 2)}')"
   ]
  },
  {
   "cell_type": "code",
   "execution_count": 35,
   "id": "western-seller",
   "metadata": {},
   "outputs": [
    {
     "name": "stdout",
     "output_type": "stream",
     "text": [
      "Total hard matches: 871\n",
      "Clay matches won: 720\n",
      "Win ratio: 0.83\n"
     ]
    }
   ],
   "source": [
    "hard_matches = rdf.where(rdf['court_surface'] == 'Hard').count()\n",
    "print(f'Total hard matches: {hard_matches}')\n",
    "\n",
    "hard_matches_won = rdf.where(rdf['court_surface'] == 'Hard') \\\n",
    "    .where(rdf['player_victory'] == 't') \\\n",
    "    .count()\n",
    "print(f'Clay matches won: {hard_matches_won}')\n",
    "\n",
    "print(f'Win ratio: {round(hard_matches_won/hard_matches, 2)}')"
   ]
  },
  {
   "cell_type": "markdown",
   "id": "breeding-pointer",
   "metadata": {},
   "source": [
    "## Case study 2: Nadal"
   ]
  },
  {
   "cell_type": "code",
   "execution_count": 36,
   "id": "extra-theorem",
   "metadata": {},
   "outputs": [],
   "source": [
    "ndf = df.where(df['player_id'] == \"rafael-nadal\")"
   ]
  },
  {
   "cell_type": "code",
   "execution_count": 38,
   "id": "alpine-strength",
   "metadata": {},
   "outputs": [
    {
     "name": "stdout",
     "output_type": "stream",
     "text": [
      "Total matches: 1188\n",
      "Matches won: 977\n",
      "Win ratio: 0.82\n"
     ]
    }
   ],
   "source": [
    "total_matches = ndf.count()\n",
    "print(f'Total matches: {total_matches}')\n",
    "\n",
    "matches_won = ndf.where(ndf['player_victory'] == 't').count()\n",
    "print(f'Matches won: {matches_won}')\n",
    "\n",
    "print(f'Win ratio: {round(matches_won/total_matches, 2)}')"
   ]
  },
  {
   "cell_type": "code",
   "execution_count": 42,
   "id": "happy-rider",
   "metadata": {},
   "outputs": [
    {
     "name": "stdout",
     "output_type": "stream",
     "text": [
      "Total clay matches: 526\n",
      "Clay matches won: 459\n",
      "Win ratio: 0.87\n"
     ]
    }
   ],
   "source": [
    "clay_matches = ndf.where(ndf['court_surface'] == 'Clay').count()\n",
    "print(f'Total clay matches: {clay_matches}')\n",
    "\n",
    "clay_matches_won = ndf.where(ndf['court_surface'] == 'Clay') \\\n",
    "    .where(ndf['player_victory'] == 't') \\\n",
    "    .count()\n",
    "print(f'Clay matches won: {clay_matches_won}')\n",
    "\n",
    "print(f'Win ratio: {round(clay_matches_won/clay_matches, 2)}')"
   ]
  },
  {
   "cell_type": "code",
   "execution_count": 46,
   "id": "hindu-excess",
   "metadata": {},
   "outputs": [
    {
     "name": "stdout",
     "output_type": "stream",
     "text": [
      "Total clay matches: 105\n",
      "Clay matches won: 83\n",
      "Win ratio: 0.79\n"
     ]
    }
   ],
   "source": [
    "grass_matches = ndf.where(ndf['court_surface'] == 'Grass').count()\n",
    "print(f'Total clay matches: {grass_matches}')\n",
    "\n",
    "grass_matches_won = ndf.where(ndf['court_surface'] == 'Grass') \\\n",
    "    .where(ndf['player_victory'] == 't') \\\n",
    "    .count()\n",
    "print(f'Clay matches won: {grass_matches_won}')\n",
    "\n",
    "print(f'Win ratio: {round(grass_matches_won/grass_matches, 2)}')"
   ]
  },
  {
   "cell_type": "code",
   "execution_count": 45,
   "id": "qualified-norman",
   "metadata": {},
   "outputs": [
    {
     "name": "stdout",
     "output_type": "stream",
     "text": [
      "Total hard matches: 871\n",
      "Clay matches won: 428\n",
      "Win ratio: 0.49\n"
     ]
    }
   ],
   "source": [
    "hard_matches = rdf.where(ndf['court_surface'] == 'Hard').count()\n",
    "print(f'Total hard matches: {hard_matches}')\n",
    "\n",
    "hard_matches_won = ndf.where(ndf['court_surface'] == 'Hard') \\\n",
    "    .where(ndf['player_victory'] == 't') \\\n",
    "    .count()\n",
    "print(f'Clay matches won: {hard_matches_won}')\n",
    "\n",
    "print(f'Win ratio: {round(hard_matches_won/hard_matches, 2)}')"
   ]
  }
 ],
 "metadata": {
  "kernelspec": {
   "display_name": "Python 3",
   "language": "python",
   "name": "python3"
  },
  "language_info": {
   "codemirror_mode": {
    "name": "ipython",
    "version": 3
   },
   "file_extension": ".py",
   "mimetype": "text/x-python",
   "name": "python",
   "nbconvert_exporter": "python",
   "pygments_lexer": "ipython3",
   "version": "3.9.1"
  }
 },
 "nbformat": 4,
 "nbformat_minor": 5
}
