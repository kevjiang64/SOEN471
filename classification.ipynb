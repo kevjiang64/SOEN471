{
 "cells": [
  {
   "cell_type": "markdown",
   "id": "lovely-retro",
   "metadata": {},
   "source": [
    "## Classification\n",
    "\n",
    "As mentionned in the project introduction, one of the most well-known way that different players distinguish from one another while playing tennis is their profiency on a given field type, with Federer being the best on grass fields and Nadal being the best on clay fields.  \n",
    "\n",
    "Naturally, finding a player's field preference gives us a lot of insight into how likely the player is to win a given match. "
   ]
  },
  {
   "cell_type": "markdown",
   "id": "extensive-original",
   "metadata": {},
   "source": [
    "## Intro\n",
    "\n",
    "First, let us initialize the DataFrame."
   ]
  },
  {
   "cell_type": "code",
   "execution_count": 1,
   "id": "after-colombia",
   "metadata": {},
   "outputs": [],
   "source": [
    "from pyspark.sql import SparkSession\n",
    "\n",
    "spark = SparkSession \\\n",
    "        .builder \\\n",
    "        .appName(\"Python Spark SQL basic example\") \\\n",
    "        .config(\"spark.some.config.option\", \"some-value\") \\\n",
    "        .getOrCreate()\n",
    "\n",
    "def get_df(): \n",
    "    return spark.read \\\n",
    "    .csv(\"./dataset/all_matches.csv\", header=True)"
   ]
  },
  {
   "cell_type": "markdown",
   "id": "regular-macintosh",
   "metadata": {},
   "source": [
    "## Case study 1: Roger Federer\n",
    "\n",
    "We will start analyzing matches by Roger Federer."
   ]
  },
  {
   "cell_type": "code",
   "execution_count": 20,
   "id": "higher-jerusalem",
   "metadata": {},
   "outputs": [],
   "source": [
    "rdf = df.where(df['player_id'] == \"roger-federer\")"
   ]
  },
  {
   "cell_type": "code",
   "execution_count": 25,
   "id": "reserved-investigator",
   "metadata": {},
   "outputs": [
    {
     "name": "stdout",
     "output_type": "stream",
     "text": [
      "Total matches: 1470\n",
      "Matches won: 1194\n",
      "Win ratio: 0.81\n"
     ]
    }
   ],
   "source": [
    "total_matches = rdf.count()\n",
    "print(f'Total matches: {total_matches}')\n",
    "\n",
    "matches_won = rdf.where(rdf['player_victory'] == 't').count()\n",
    "print(f'Matches won: {matches_won}')\n",
    "\n",
    "print(f'Win ratio: {round(matches_won/total_matches, 2)}')"
   ]
  },
  {
   "cell_type": "code",
   "execution_count": 30,
   "id": "vital-function",
   "metadata": {},
   "outputs": [
    {
     "name": "stdout",
     "output_type": "stream",
     "text": [
      "Total clay matches: 350\n",
      "Clay matches won: 263\n",
      "Win ratio: 0.75\n"
     ]
    }
   ],
   "source": [
    "clay_matches = rdf.where(rdf['court_surface'] == 'Clay').count()\n",
    "print(f'Total clay matches: {clay_matches}')\n",
    "\n",
    "clay_matches_won = rdf.where(rdf['court_surface'] == 'Clay') \\\n",
    "    .where(rdf['player_victory'] == 't') \\\n",
    "    .count()\n",
    "print(f'Clay matches won: {clay_matches_won}')\n",
    "\n",
    "print(f'Win ratio: {round(clay_matches_won/clay_matches, 2)}')"
   ]
  },
  {
   "cell_type": "code",
   "execution_count": 32,
   "id": "grand-bathroom",
   "metadata": {},
   "outputs": [
    {
     "name": "stdout",
     "output_type": "stream",
     "text": [
      "Total clay matches: 211\n",
      "Clay matches won: 184\n",
      "Win ratio: 0.87\n"
     ]
    }
   ],
   "source": [
    "grass_matches = rdf.where(rdf['court_surface'] == 'Grass').count()\n",
    "print(f'Total clay matches: {grass_matches}')\n",
    "\n",
    "grass_matches_won = rdf.where(rdf['court_surface'] == 'Grass') \\\n",
    "    .where(rdf['player_victory'] == 't') \\\n",
    "    .count()\n",
    "print(f'Clay matches won: {grass_matches_won}')\n",
    "\n",
    "print(f'Win ratio: {round(grass_matches_won/grass_matches, 2)}')"
   ]
  },
  {
   "cell_type": "code",
   "execution_count": 35,
   "id": "alpine-poland",
   "metadata": {},
   "outputs": [
    {
     "name": "stdout",
     "output_type": "stream",
     "text": [
      "Total hard matches: 871\n",
      "Clay matches won: 720\n",
      "Win ratio: 0.83\n"
     ]
    }
   ],
   "source": [
    "hard_matches = rdf.where(rdf['court_surface'] == 'Hard').count()\n",
    "print(f'Total hard matches: {hard_matches}')\n",
    "\n",
    "hard_matches_won = rdf.where(rdf['court_surface'] == 'Hard') \\\n",
    "    .where(rdf['player_victory'] == 't') \\\n",
    "    .count()\n",
    "print(f'Clay matches won: {hard_matches_won}')\n",
    "\n",
    "print(f'Win ratio: {round(hard_matches_won/hard_matches, 2)}')"
   ]
  },
  {
   "cell_type": "markdown",
   "id": "statutory-excitement",
   "metadata": {},
   "source": [
    "## Case study 2: Nadal"
   ]
  },
  {
   "cell_type": "code",
   "execution_count": 36,
   "id": "explicit-dimension",
   "metadata": {},
   "outputs": [],
   "source": [
    "ndf = df.where(df['player_id'] == \"rafael-nadal\")"
   ]
  },
  {
   "cell_type": "code",
   "execution_count": 38,
   "id": "moral-insurance",
   "metadata": {},
   "outputs": [
    {
     "name": "stdout",
     "output_type": "stream",
     "text": [
      "Total matches: 1188\n",
      "Matches won: 977\n",
      "Win ratio: 0.82\n"
     ]
    }
   ],
   "source": [
    "total_matches = ndf.count()\n",
    "print(f'Total matches: {total_matches}')\n",
    "\n",
    "matches_won = ndf.where(ndf['player_victory'] == 't').count()\n",
    "print(f'Matches won: {matches_won}')\n",
    "\n",
    "print(f'Win ratio: {round(matches_won/total_matches, 2)}')"
   ]
  },
  {
   "cell_type": "code",
   "execution_count": 42,
   "id": "alert-hundred",
   "metadata": {},
   "outputs": [
    {
     "name": "stdout",
     "output_type": "stream",
     "text": [
      "Total clay matches: 526\n",
      "Clay matches won: 459\n",
      "Win ratio: 0.87\n"
     ]
    }
   ],
   "source": [
    "clay_matches = ndf.where(ndf['court_surface'] == 'Clay').count()\n",
    "print(f'Total clay matches: {clay_matches}')\n",
    "\n",
    "clay_matches_won = ndf.where(ndf['court_surface'] == 'Clay') \\\n",
    "    .where(ndf['player_victory'] == 't') \\\n",
    "    .count()\n",
    "print(f'Clay matches won: {clay_matches_won}')\n",
    "\n",
    "print(f'Win ratio: {round(clay_matches_won/clay_matches, 2)}')"
   ]
  },
  {
   "cell_type": "code",
   "execution_count": 46,
   "id": "grand-robertson",
   "metadata": {},
   "outputs": [
    {
     "name": "stdout",
     "output_type": "stream",
     "text": [
      "Total clay matches: 105\n",
      "Clay matches won: 83\n",
      "Win ratio: 0.79\n"
     ]
    }
   ],
   "source": [
    "grass_matches = ndf.where(ndf['court_surface'] == 'Grass').count()\n",
    "print(f'Total clay matches: {grass_matches}')\n",
    "\n",
    "grass_matches_won = ndf.where(ndf['court_surface'] == 'Grass') \\\n",
    "    .where(ndf['player_victory'] == 't') \\\n",
    "    .count()\n",
    "print(f'Clay matches won: {grass_matches_won}')\n",
    "\n",
    "print(f'Win ratio: {round(grass_matches_won/grass_matches, 2)}')"
   ]
  },
  {
   "cell_type": "code",
   "execution_count": 45,
   "id": "double-brooks",
   "metadata": {},
   "outputs": [
    {
     "name": "stdout",
     "output_type": "stream",
     "text": [
      "Total hard matches: 871\n",
      "Clay matches won: 428\n",
      "Win ratio: 0.49\n"
     ]
    }
   ],
   "source": [
    "hard_matches = rdf.where(ndf['court_surface'] == 'Hard').count()\n",
    "print(f'Total hard matches: {hard_matches}')\n",
    "\n",
    "hard_matches_won = ndf.where(ndf['court_surface'] == 'Hard') \\\n",
    "    .where(ndf['player_victory'] == 't') \\\n",
    "    .count()\n",
    "print(f'Clay matches won: {hard_matches_won}')\n",
    "\n",
    "print(f'Win ratio: {round(hard_matches_won/hard_matches, 2)}')"
   ]
  },
  {
   "cell_type": "markdown",
   "id": "stuck-surveillance",
   "metadata": {},
   "source": [
    "# Matchup Matrix\n",
    "\n",
    "A naïve way to try and predict the outcome of a match would be to create a matrix with the percent win of each players against each other players."
   ]
  },
  {
   "cell_type": "code",
   "execution_count": 4,
   "id": "graphic-underwear",
   "metadata": {},
   "outputs": [
    {
     "name": "stdout",
     "output_type": "stream",
     "text": [
      "+--------------+------------------+-------------------+-------------------+------------------+\n",
      "|        player|       andy-murray|     novak-djokovic|       rafael-nadal|     roger-federer|\n",
      "+--------------+------------------+-------------------+-------------------+------------------+\n",
      "|   andy-murray|              null|0.29411764705882354|0.34782608695652173|               0.5|\n",
      "|novak-djokovic|0.7058823529411765|               null| 0.5217391304347826|             0.525|\n",
      "|  rafael-nadal|0.6521739130434783| 0.4782608695652174|               null|0.6666666666666666|\n",
      "| roger-federer|               0.5|              0.475| 0.3333333333333333|              null|\n",
      "+--------------+------------------+-------------------+-------------------+------------------+\n",
      "\n"
     ]
    }
   ],
   "source": [
    "# Matchups\n",
    "players = ['roger-federer', 'rafael-nadal', 'novak-djokovic', 'andy-murray']\n",
    "players.sort()\n",
    "\n",
    "df = get_df()\n",
    "rdd = (df.select([\"player_id\", \"opponent_id\", \"player_victory\"])\n",
    "    .where(df['player_id'].isin(players))\n",
    "    .where(df['opponent_id'].isin(players))\n",
    "    .rdd\n",
    "    .map(lambda x: ((x['player_id'], x['opponent_id']), (1, 1 if x['player_victory'] == 't' else 0)))\n",
    "    .reduceByKey(lambda a, b: (a[0] + b[0], a[1] + b[1])) # Count total matches played and matches won\n",
    "    .map(lambda x: (x[0][0], {x[0][1]: x[1][1] / x[1][0]})) # Count win rate\n",
    "    .reduceByKey(lambda a, b: { **a, **b }) # Aggregate results) \n",
    "    .sortByKey())\n",
    "\n",
    "# Matchup matrix\n",
    "df2 = spark.createDataFrame(rdd, [\"player\", \"results\"])\n",
    "for player in sorted(players):\n",
    "    df2 = df2.withColumn(player, df2['results'][player])\n",
    "\n",
    "df2 = df2.drop('results')\n",
    "df2.show()"
   ]
  },
  {
   "cell_type": "markdown",
   "id": "advanced-scanning",
   "metadata": {},
   "source": [
    "This approach is unfortunately very limited, as it ignores important elements such as the court surface, and it only really works if two players have already played against each others in the past.\n",
    "\n",
    "We'd ideally like to be able to able to predict the outcome of a match even when two players have not played against each others before."
   ]
  }
 ],
 "metadata": {
  "kernelspec": {
   "display_name": "Python 3",
   "language": "python",
   "name": "python3"
  },
  "language_info": {
   "codemirror_mode": {
    "name": "ipython",
    "version": 3
   },
   "file_extension": ".py",
   "mimetype": "text/x-python",
   "name": "python",
   "nbconvert_exporter": "python",
   "pygments_lexer": "ipython3",
   "version": "3.9.1"
  }
 },
 "nbformat": 4,
 "nbformat_minor": 5
}
