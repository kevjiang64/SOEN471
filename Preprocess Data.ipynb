{
 "cells": [
  {
   "cell_type": "markdown",
   "id": "647833d0",
   "metadata": {},
   "source": [
    "### Preprocess Data"
   ]
  },
  {
   "cell_type": "code",
   "execution_count": 31,
   "id": "6b8d57d7",
   "metadata": {},
   "outputs": [],
   "source": [
    "# Init\n",
    "from pyspark.sql import SparkSession\n",
    "from pyspark.sql.functions import col, expr, when, lit\n",
    "\n",
    "spark = SparkSession \\\n",
    "        .builder \\\n",
    "        .appName(\"Python Spark SQL basic example\") \\\n",
    "        .config(\"spark.some.config.option\", \"some-value\") \\\n",
    "        .getOrCreate()\n",
    "\n",
    "def init_df(): \n",
    "    return spark.read \\\n",
    "    .csv(\"./dataset/all_matches.csv\", header=True)"
   ]
  },
  {
   "cell_type": "code",
   "execution_count": 38,
   "id": "d89e0014",
   "metadata": {},
   "outputs": [],
   "source": [
    "def preProcessdata(dataframe) :\n",
    "    df = dataframe.drop(\"player_name\", \"opponent_name\", \"prize_money\", \"currency\") \\\n",
    "           .filter((dataframe.won_first_set != 'null') & (dataframe.doubles == 'f'))\n",
    "    return df"
   ]
  },
  {
   "cell_type": "code",
   "execution_count": 42,
   "id": "dcda399c",
   "metadata": {},
   "outputs": [
    {
     "name": "stdout",
     "output_type": "stream",
     "text": [
      "+--------------------+------------------+-------+-------------+\n",
      "|           player_id|       opponent_id|doubles|won_first_set|\n",
      "+--------------------+------------------+-------+-------------+\n",
      "|        adrian-partl|     andrej-martin|      f|            f|\n",
      "|        adrian-partl|     jozef-kovalik|      f|            t|\n",
      "|     agustin-velotti|    dominik-hrbaty|      f|            f|\n",
      "|alessandro-giannessi|  harri-heliovaara|      f|            t|\n",
      "|alessandro-giannessi|       nils-langer|      f|            t|\n",
      "|alessandro-giannessi|       simon-greul|      f|            f|\n",
      "|  alexander-satschko|    norbert-gombos|      f|            f|\n",
      "|        aljaz-bedene|arnau-brugues-davi|      f|            f|\n",
      "|        aljaz-bedene|         ivo-minar|      f|            t|\n",
      "|        aljaz-bedene|         jan-hajek|      f|            f|\n",
      "|        aljaz-bedene|    pavol-cervenak|      f|            t|\n",
      "|        aljaz-bedene|       simon-greul|      f|            t|\n",
      "|andreas-haider-ma...|     victor-crivoi|      f|            f|\n",
      "|   andrei-vasilevski|     marcin-gawron|      f|            f|\n",
      "|   andrei-vasilevski|        peter-mick|      f|            t|\n",
      "|       andrej-martin|      adrian-partl|      f|            t|\n",
      "|       andrej-martin|         jan-hajek|      f|            f|\n",
      "|andres-alejandro-...|    santiago-comba|      f|            f|\n",
      "|       andrej-martin|  laurent-rochette|      f|            t|\n",
      "|       andrej-martin|     marcel-felder|      f|            t|\n",
      "+--------------------+------------------+-------+-------------+\n",
      "only showing top 20 rows\n",
      "\n"
     ]
    }
   ],
   "source": [
    "df = init_df()\n",
    "df = preProcessdata(df)\n",
    "df.select(\"player_id\", \"opponent_id\", \"doubles\", \"won_first_set\").show()"
   ]
  },
  {
   "cell_type": "code",
   "execution_count": null,
   "id": "9b45810f",
   "metadata": {},
   "outputs": [],
   "source": []
  }
 ],
 "metadata": {
  "kernelspec": {
   "display_name": "Python 3",
   "language": "python",
   "name": "python3"
  },
  "language_info": {
   "codemirror_mode": {
    "name": "ipython",
    "version": 3
   },
   "file_extension": ".py",
   "mimetype": "text/x-python",
   "name": "python",
   "nbconvert_exporter": "python",
   "pygments_lexer": "ipython3",
   "version": "3.7.4"
  }
 },
 "nbformat": 4,
 "nbformat_minor": 5
}
